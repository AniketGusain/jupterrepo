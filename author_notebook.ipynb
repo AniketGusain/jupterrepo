{
 "cells": [
  {
   "cell_type": "markdown",
   "id": "11c3df0d",
   "metadata": {},
   "source": [
    "# Notebook\n",
    "\n",
    "Author: John Doe"
   ]
  }
 ],
 "metadata": {},
 "nbformat": 4,
 "nbformat_minor": 5
}
