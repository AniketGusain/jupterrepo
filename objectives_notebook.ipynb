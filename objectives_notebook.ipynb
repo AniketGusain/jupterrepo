{
 "cells": [
  {
   "cell_type": "markdown",
   "id": "f35ebe4b",
   "metadata": {},
   "source": [
    "## Objectives\n",
    "\n",
    "- Objective 1\n",
    "- Objective 2\n",
    "- Objective 3"
   ]
  }
 ],
 "metadata": {},
 "nbformat": 4,
 "nbformat_minor": 5
}
