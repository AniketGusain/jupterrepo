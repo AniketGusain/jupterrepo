{
 "cells": [
  {
   "cell_type": "code",
   "execution_count": 4,
   "id": "8c4cb23b",
   "metadata": {},
   "outputs": [
    {
     "data": {
      "text/markdown": [
       "\n",
       "Data Science Languages\n",
       "\n",
       "- Python\n",
       "- MATLAB\n",
       "- R\n",
       "- SQL\n",
       "- Julia\n",
       "- Scala\n"
      ],
      "text/plain": [
       "<IPython.core.display.Markdown object>"
      ]
     },
     "execution_count": 4,
     "metadata": {},
     "output_type": "execute_result"
    }
   ],
   "source": [
    "from IPython.display import Markdown\n",
    "\n",
    "markdown_text = \"\"\"\n",
    "Data Science Languages\n",
    "\n",
    "- Python\n",
    "- MATLAB\n",
    "- R\n",
    "- SQL\n",
    "- Julia\n",
    "- Scala\n",
    "\"\"\"\n",
    "\n",
    "Markdown(markdown_text)\n"
   ]
  },
  {
   "cell_type": "code",
   "execution_count": 5,
   "id": "a26f345f",
   "metadata": {},
   "outputs": [
    {
     "data": {
      "text/markdown": [
       "\n",
       "Welcome to my notebook!\n",
       "\n",
       "Let's get started!\n"
      ],
      "text/plain": [
       "<IPython.core.display.Markdown object>"
      ]
     },
     "execution_count": 5,
     "metadata": {},
     "output_type": "execute_result"
    }
   ],
   "source": [
    "from IPython.display import Markdown\n",
    "\n",
    "markdown_text = \"\"\"\n",
    "Welcome to my notebook!\n",
    "\n",
    "Let's get started!\n",
    "\"\"\"\n",
    "\n",
    "Markdown(markdown_text)\n"
   ]
  },
  {
   "cell_type": "code",
   "execution_count": 6,
   "id": "d5d2c05e",
   "metadata": {},
   "outputs": [
    {
     "data": {
      "text/markdown": [
       "\n",
       "# Notebook Title\n",
       "\n",
       "This notebook is focused on exploring various data science techniques and concepts.\n"
      ],
      "text/plain": [
       "<IPython.core.display.Markdown object>"
      ]
     },
     "execution_count": 6,
     "metadata": {},
     "output_type": "execute_result"
    }
   ],
   "source": [
    "from IPython.display import Markdown\n",
    "\n",
    "markdown_text = \"\"\"\n",
    "# Notebook Title\n",
    "\n",
    "This notebook is focused on exploring various data science techniques and concepts.\n",
    "\"\"\"\n",
    "\n",
    "Markdown(markdown_text)\n"
   ]
  },
  {
   "cell_type": "code",
   "execution_count": 7,
   "id": "87b55d4e",
   "metadata": {},
   "outputs": [
    {
     "data": {
      "text/markdown": [
       "\n",
       "### Data Science Libraries\n",
       "\n",
       "- *Python*: \n",
       "  - NumPy\n",
       "  - Pandas\n",
       "  - Matplotlib\n",
       "\n",
       "- *R*: \n",
       "  - dplyr\n",
       "  - ggplot2\n",
       "\n"
      ],
      "text/plain": [
       "<IPython.core.display.Markdown object>"
      ]
     },
     "execution_count": 7,
     "metadata": {},
     "output_type": "execute_result"
    }
   ],
   "source": [
    "from IPython.display import Markdown\n",
    "\n",
    "markdown_text = \"\"\"\n",
    "### Data Science Libraries\n",
    "\n",
    "- *Python*: \n",
    "  - NumPy\n",
    "  - Pandas\n",
    "  - Matplotlib\n",
    "\n",
    "- *R*: \n",
    "  - dplyr\n",
    "  - ggplot2\n",
    "\n",
    "\"\"\"\n",
    "Markdown(markdown_text)\n"
   ]
  },
  {
   "cell_type": "code",
   "execution_count": 9,
   "id": "cee01188",
   "metadata": {},
   "outputs": [
    {
     "data": {
      "text/markdown": [
       "\n",
       "### Data Science Tools\n",
       " Python     | NumPy, Pandas, Scikit-learn| Jupyter Notebook, PyCharm |\n",
       " \n",
       " R          | ggplot2, dplyr, caret     | RStudio, Jupyter Notebook |\n"
      ],
      "text/plain": [
       "<IPython.core.display.Markdown object>"
      ]
     },
     "metadata": {},
     "output_type": "display_data"
    }
   ],
   "source": [
    "from IPython.display import Markdown, display\n",
    "\n",
    "markdown_text = \"\"\"\n",
    "### Data Science Tools\n",
    " Python     | NumPy, Pandas, Scikit-learn| Jupyter Notebook, PyCharm |\n",
    " \n",
    " R          | ggplot2, dplyr, caret     | RStudio, Jupyter Notebook |\n",
    "\"\"\"\n",
    "\n",
    "display(Markdown(markdown_text))\n"
   ]
  },
  {
   "cell_type": "code",
   "execution_count": 10,
   "id": "c435d772",
   "metadata": {},
   "outputs": [
    {
     "data": {
      "text/markdown": [
       "\n",
       "# Arithmetic Expressions \n",
       "## Addition\n",
       "The addition operator `+` is used to add two or more numbers. \n",
       "\n",
       "## Subtraction\n",
       "The subtraction operator `-` is used to subtract one number from another. \n",
       "\n",
       "## Multiplication\n",
       "The multiplication operator `*` is used to multiply two or more numbers. \n",
       "## Division\n",
       "The division operator `/` is used to divide one number by another\n",
       "\n",
       "## Modulo\n",
       "The modulo operator `%` is used to find the remainder of the division of one number by another\n",
       "\n",
       "## Exponentiation\n",
       "The exponentiation operator `**` is used to raise a number to a power\n"
      ],
      "text/plain": [
       "<IPython.core.display.Markdown object>"
      ]
     },
     "metadata": {},
     "output_type": "display_data"
    }
   ],
   "source": [
    "from IPython.display import Markdown, display\n",
    "\n",
    "def create_markdown_cell(content):\n",
    "    display(Markdown(content))\n",
    "\n",
    "markdown_content = \"\"\"\n",
    "# Arithmetic Expressions \n",
    "## Addition\n",
    "The addition operator `+` is used to add two or more numbers. \n",
    "\n",
    "## Subtraction\n",
    "The subtraction operator `-` is used to subtract one number from another. \n",
    "\n",
    "## Multiplication\n",
    "The multiplication operator `*` is used to multiply two or more numbers. \n",
    "## Division\n",
    "The division operator `/` is used to divide one number by another\n",
    "\n",
    "## Modulo\n",
    "The modulo operator `%` is used to find the remainder of the division of one number by another\n",
    "\n",
    "## Exponentiation\n",
    "The exponentiation operator `**` is used to raise a number to a power\n",
    "\"\"\"\n",
    "\n",
    "create_markdown_cell(markdown_content)\n"
   ]
  },
  {
   "cell_type": "code",
   "execution_count": 6,
   "id": "bda9987a",
   "metadata": {},
   "outputs": [
    {
     "name": "stdout",
     "output_type": "stream",
     "text": [
      "Multiplication Result: 50\n",
      "Addition Result: 15\n"
     ]
    }
   ],
   "source": [
    "\n",
    "number1 = 5\n",
    "number2 = 10\n",
    "\n",
    "# Multiplication\n",
    "result_multiply = number1 * number2\n",
    "\n",
    "# Addition\n",
    "result_addition = number1 + number2\n",
    "\n",
    "# Print the results\n",
    "print(\"Multiplication Result:\", result_multiply)\n",
    "print(\"Addition Result:\", result_addition)\n"
   ]
  },
  {
   "cell_type": "code",
   "execution_count": 7,
   "id": "27b8d777",
   "metadata": {},
   "outputs": [
    {
     "name": "stdout",
     "output_type": "stream",
     "text": [
      "Minutes: 150\n",
      "Hours: 2.5\n"
     ]
    }
   ],
   "source": [
    "# EXERCISE 9th// convert minutes to hours\n",
    "minutes = 150\n",
    "\n",
    "# Calculate hours\n",
    "hours = minutes / 60\n",
    "\n",
    "# Print the result\n",
    "print(\"Minutes:\", minutes)\n",
    "print(\"Hours:\", hours)\n"
   ]
  },
  {
   "cell_type": "code",
   "execution_count": 8,
   "id": "b1ecd97c",
   "metadata": {},
   "outputs": [],
   "source": [
    "#Exercise 11\n",
    "import nbformat as nbf\n",
    "\n",
    "# Create a new notebook\n",
    "notebook = nbf.v4.new_notebook()\n",
    "\n",
    "# Create a markdown cell with the author's name\n",
    "author_name = \"Author: John Doe\"\n",
    "markdown_content = f\"# Notebook\\n\\n{author_name}\"\n",
    "\n",
    "markdown_cell = nbf.v4.new_markdown_cell(source=markdown_content)\n",
    "\n",
    "# Add the markdown cell to the notebook\n",
    "notebook['cells'] = [markdown_cell]\n",
    "\n",
    "# Save the notebook to a file\n",
    "nbf.write(notebook, 'author_notebook.ipynb')\n",
    "# EXERCISE 9th//\n",
    "import nbformat as nbf\n",
    "\n",
    "notebook = nbf.v4.new_notebook()\n",
    "\n",
    "\n",
    "markdown_cell = nbf.v4.new_markdown_cell(source=\"## Objectives\\n\\n- Objective 1\\n- Objective 2\\n- Objective 3\")\n",
    "\n",
    "notebook['cells'] = [markdown_cell]\n",
    "\n",
    "nbf.write(notebook, 'objectives_notebook.ipynb')\n"
   ]
  },
  {
   "cell_type": "code",
   "execution_count": null,
   "id": "e089fa03",
   "metadata": {},
   "outputs": [],
   "source": []
  }
 ],
 "metadata": {
  "kernelspec": {
   "display_name": "Python 3 (ipykernel)",
   "language": "python",
   "name": "python3"
  },
  "language_info": {
   "codemirror_mode": {
    "name": "ipython",
    "version": 3
   },
   "file_extension": ".py",
   "mimetype": "text/x-python",
   "name": "python",
   "nbconvert_exporter": "python",
   "pygments_lexer": "ipython3",
   "version": "3.11.0"
  }
 },
 "nbformat": 4,
 "nbformat_minor": 5
}
